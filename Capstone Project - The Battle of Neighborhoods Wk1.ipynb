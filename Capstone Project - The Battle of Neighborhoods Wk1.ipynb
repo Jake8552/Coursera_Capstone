{
 "cells": [
  {
   "cell_type": "markdown",
   "metadata": {
    "collapsed": true
   },
   "source": [
    "# Opening a Japanese Restaurant in New York, USA"
   ]
  },
  {
   "cell_type": "markdown",
   "metadata": {},
   "source": [
    "By: Jake Rowland"
   ]
  },
  {
   "cell_type": "markdown",
   "metadata": {},
   "source": [
    "## Introduction"
   ]
  },
  {
   "cell_type": "markdown",
   "metadata": {},
   "source": [
    "New York City is the largest city in the United States and is also an ethnically diverse city due to high levels of international immigration throughout history. In 2019, New York City had a population of approximately 8.5 million people, which accounts for over 40% of the population of New York State. During the last decade, New York City has been growing quicker than the region as a whole, with the New York region continuing to be the leading gateway for immigrants entering the United States. \n",
    "\n",
    "This project will explore the best locations for Japanese restaurants throughout New York City. The aim is for the owner of the new Japanese restaurant to have excellent success and consistent profit. However, opening a new restaurant requires careful consideration, and is invariably complicated, as is the case with any new business. The location of the new Japanese restaurant is one of, if not the most important factor to consider as it will heavily affect the success of the business. Therefore, the project will attempt to answer questions such as: 'In what location should the investor open a Japanese restaurant?'\n",
    "\n",
    "This project is very useful to investors looking to either create a new Japanese restaurant or invest in an existing restaurant located in New York City. Overall, New York is a fantastic location to open a restaurent with an international cuisine, as New York is the most diverse city globally (a total of 800 languages are spoken in the city). Because of this diverse culture, the food is also diverse. New York features many restaurants from various cultures such as: Indian, French, Italian etc. The reason this project focusses on Japanese cuisine is that the awareness of a healthy lifestyle is becoming more prominant in the American population, and as a result Japanese restaurants are becoming extremely popular, as they offer a more healthy alternative to 'typical' American food. "
   ]
  },
  {
   "cell_type": "markdown",
   "metadata": {},
   "source": [
    "## Business Problem"
   ]
  },
  {
   "cell_type": "markdown",
   "metadata": {},
   "source": [
    "The aim of this project is to analyse and choose the best locations in New York City to open a new Japanese restaurant. Using the methodology of data science and various tools, this project aims to provide a solution to the problem: 'Where in New York City should the investor open a Japanese restaurant?'. The best locations are defined as the places within New York City that will ensure a highly successful Japanese restaurant, in terms of consistent profit. "
   ]
  },
  {
   "cell_type": "markdown",
   "metadata": {},
   "source": [
    "## Data"
   ]
  },
  {
   "cell_type": "markdown",
   "metadata": {},
   "source": [
    "###### To solve the problem identified, the following data will be required:\n",
    "- New York City data containing the neighborhoods and boroughs.\n",
    "- Latitude and longitude coordinates of those neighborhoods. This is needed to get the venue data and plot the map. \n",
    "- Venue data, specifically data related to restaurants. This data will be used to perform additional analyis of the neighborhoods."
   ]
  },
  {
   "cell_type": "markdown",
   "metadata": {},
   "source": [
    "###### Data Source and Extraction Methods"
   ]
  },
  {
   "cell_type": "markdown",
   "metadata": {},
   "source": [
    "New York City data containing the neighborhoods and boroughs will be collected for the following open data source: https://cocl.us/new_york_dataset. After this, the geographical coordinates (latitude and longitude) of the neighborhoods will be obtained using Python Geocoder package. Next, the Foursquare API will be used to get the venue data for the neighborhoods. Foursquare has one of the largest databases of over 105 million places and over 125,000 developers use it. The Foursquare API provides many categories of the venue data, however the project will be focussing on the restaurant data to solve the business problem. \n",
    "\n",
    "Overall, the project will require a multitude of data science skills including: web scrapping, working with an API, data cleaning and wrangling, map visualisation. In the following Methodology section, exploratory data analysis will be conducted and analysed, statistical techniques will be performed and what machine learning techniques will be used. "
   ]
  }
 ],
 "metadata": {
  "kernelspec": {
   "display_name": "Python 3.7",
   "language": "python",
   "name": "python3"
  },
  "language_info": {
   "codemirror_mode": {
    "name": "ipython",
    "version": 3
   },
   "file_extension": ".py",
   "mimetype": "text/x-python",
   "name": "python",
   "nbconvert_exporter": "python",
   "pygments_lexer": "ipython3",
   "version": "3.7.9"
  }
 },
 "nbformat": 4,
 "nbformat_minor": 1
}
